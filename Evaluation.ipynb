{
 "cells": [
  {
   "cell_type": "code",
   "execution_count": null,
   "id": "ec64e5ec",
   "metadata": {},
   "outputs": [
    {
     "name": "stdout",
     "output_type": "stream",
     "text": [
      "F1-score: 0.0\n"
     ]
    }
   ],
   "source": [
    "from scipy.io import loadmat\n",
    "from sklearn.metrics import f1_score\n",
    "import numpy as np\n",
    "\n",
    "\n",
    "data = loadmat(\"GT/Air_Force_One.mat\")\n",
    "\n",
    "y_true_indices = np.squeeze(data['gt_score']).astype(int)\n",
    "\n",
    "\n",
    "with open(\"keyframes/Air_Force_One/Air_Force_One_indices.txt\",\"r\") as f:\n",
    "    predicted_indices = [int(line.strip()) for line in f]\n",
    "\n",
    "\n",
    "num_frames = max(max(y_true_indices), max(predicted_indices)) + 1\n",
    "\n",
    "\n",
    "y_true = np.zeros(num_frames, dtype=int)\n",
    "y_true[y_true_indices - 1] = 1  \n",
    "\n",
    "\n",
    "y_pred = np.zeros(num_frames, dtype=int)\n",
    "y_pred[np.array(predicted_indices) - 1] = 1  \n",
    "\n",
    "\n",
    "fscore = f1_score(y_true, y_pred)\n",
    "print(\"F1-score:\", fscore)\n"
   ]
  },
  {
   "cell_type": "code",
   "execution_count": 12,
   "id": "bcc4544d",
   "metadata": {},
   "outputs": [
    {
     "name": "stdout",
     "output_type": "stream",
     "text": [
      "c:\\Users\\KIIT\\OneDrive\\Desktop\\Projects\\Video-Summarization-Project\\keyframes\\1\n"
     ]
    }
   ],
   "source": [
    "print(os.getcwd())"
   ]
  },
  {
   "cell_type": "code",
   "execution_count": 13,
   "id": "de816067",
   "metadata": {},
   "outputs": [],
   "source": [
    "os.chdir(\"../../\")"
   ]
  },
  {
   "cell_type": "code",
   "execution_count": 2,
   "id": "bbcb9548",
   "metadata": {},
   "outputs": [
    {
     "name": "stdout",
     "output_type": "stream",
     "text": [
      "c:\\Users\\KIIT\\OneDrive\\Desktop\\Projects\\Video-Summarization-Project\n"
     ]
    }
   ],
   "source": [
    "import os\n",
    "print(os.getcwd())"
   ]
  },
  {
   "cell_type": "code",
   "execution_count": 11,
   "id": "1184168a",
   "metadata": {},
   "outputs": [
    {
     "name": "stdout",
     "output_type": "stream",
     "text": [
      "F1-Score of video 1: 0.0000\n",
      "F1-Score of video 2: 0.0000\n",
      "F1-Score of video 3: 0.0000\n",
      "F1-Score of video 4: 0.0000\n",
      "F1-Score of video 5: 0.0000\n",
      "F1-Score of video 6: 0.0000\n",
      "F1-Score of video 7: 0.0000\n",
      "F1-Score of video 8: 0.0000\n",
      "F1-Score of video 9: 0.0000\n",
      "F1-Score of video 10: 0.0000\n",
      "F1-Score of video 11: 0.0000\n",
      "F1-Score of video 12: 0.0000\n",
      "F1-Score of video 13: 0.0000\n",
      "F1-Score of video 14: 0.0000\n",
      "F1-Score of video 15: 0.0000\n",
      "F1-Score of video 16: 0.0000\n",
      "F1-Score of video 17: 0.0000\n",
      "F1-Score of video 18: 0.1053\n",
      "F1-Score of video 19: 0.0000\n",
      "F1-Score of video 20: 0.0000\n",
      "F1-Score of video 21: 0.0000\n",
      "F1-Score of video 22: 0.0000\n",
      "F1-Score of video 23: 0.0000\n",
      "F1-Score of video 24: 0.0217\n",
      "F1-Score of video 25: 0.0000\n"
     ]
    }
   ],
   "source": [
    "import os\n",
    "from scipy.io import loadmat\n",
    "from sklearn.metrics import f1_score\n",
    "import numpy as np\n",
    "\n",
    "base_dir = os.path.join(os.getcwd(), \"keyframes\")\n",
    "folders = os.listdir(base_dir)\n",
    "\n",
    "for i in range(len(folders)):\n",
    "    folder_path = os.path.join(base_dir, str(i+1))\n",
    "\n",
    "    \n",
    "    data = loadmat(os.path.join(folder_path, f\"{i+1}.mat\"))\n",
    "    y_true_indices = np.squeeze(data['gt_score']).astype(int)\n",
    "\n",
    "    \n",
    "    with open(os.path.join(folder_path, f\"{i+1}.txt\"), \"r\") as f:\n",
    "        predicted_indices = np.array([int(line.strip()) for line in f])\n",
    "\n",
    "    \n",
    "    num_frames = max(max(y_true_indices), max(predicted_indices)) + 1\n",
    "\n",
    "    \n",
    "    y_true = np.zeros(num_frames, dtype=int)\n",
    "    y_true[y_true_indices - 1] = 1\n",
    "\n",
    "    \n",
    "    y_pred = np.zeros(num_frames, dtype=int)\n",
    "    y_pred[predicted_indices - 1] = 1\n",
    "\n",
    "    \n",
    "    fscore = f1_score(y_true, y_pred)\n",
    "    print(f\"F1-Score of video {i+1}: {fscore:.4f}\")"
   ]
  }
 ],
 "metadata": {
  "kernelspec": {
   "display_name": "video",
   "language": "python",
   "name": "python3"
  },
  "language_info": {
   "codemirror_mode": {
    "name": "ipython",
    "version": 3
   },
   "file_extension": ".py",
   "mimetype": "text/x-python",
   "name": "python",
   "nbconvert_exporter": "python",
   "pygments_lexer": "ipython3",
   "version": "3.10.18"
  }
 },
 "nbformat": 4,
 "nbformat_minor": 5
}
